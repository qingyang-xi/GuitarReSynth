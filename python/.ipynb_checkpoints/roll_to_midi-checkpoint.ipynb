{
 "cells": [
  {
   "cell_type": "code",
   "execution_count": 17,
   "metadata": {
    "collapsed": true
   },
   "outputs": [],
   "source": [
    "%matplotlib notebook\n",
    "\n",
    "import math\n",
    "import pretty_midi\n",
    "import scipy.io as sio\n",
    "import numpy as np\n",
    "import matplotlib.pyplot as plt"
   ]
  },
  {
   "cell_type": "code",
   "execution_count": 103,
   "metadata": {
    "collapsed": false
   },
   "outputs": [],
   "source": [
    "onset_time = sio.loadmat('./saved_mats/onset_time.mat')['onset_time']\n",
    "chunked_roll = sio.loadmat('./saved_mats/chunked_roll.mat')['chunked_roll']\n",
    "length_of_piece = 26;\n",
    "\n",
    "# add the ending time of the last note into the roll.\n",
    "onset_time = np.append(onset_time,length_of_piece)\n",
    "chunked_roll = np.append(chunked_roll, np.zeros((chunked_roll.shape[0],1)), axis = 1)"
   ]
  },
  {
   "cell_type": "code",
   "execution_count": 114,
   "metadata": {
    "collapsed": true
   },
   "outputs": [],
   "source": [
    "def get_pitch_velocity(salience):\n",
    "    # get from salience number to velocity number\n",
    "    return int(math.floor(salience * 127))\n",
    "\n",
    "def get_pitch_dict(onset_idx, chunked_roll):\n",
    "    # get the non-zero entries of a column of chunked_roll, with salience being the value\n",
    "    col = chunked_roll[:,onset_idx]\n",
    "    pitch_list = np.nonzero(col)[0]\n",
    "    output = {}\n",
    "    for pitch in pitch_list:\n",
    "        output[pitch] = col[pitch]\n",
    "    return output\n",
    "\n",
    "def get_end_time(onset_idx, pitch, chunked_roll, onset_time):\n",
    "    # get the end time for each note. Trying to gt rid of repeated onset\n",
    "    current_salience = chunked_roll[pitch, onset_idx]\n",
    "    \n",
    "    '''\n",
    "    only end the note if the salience of the next instance of note is 0 OR more salient. \n",
    "    Otherwise it should be treated as a tied-over note. \n",
    "    If it's tied-over, get rid of the following salience so the next onset wouldn't pick it up as NoteOn\n",
    "    '''\n",
    "    noteOff_idx = onset_idx + 1\n",
    "    while True:\n",
    "        if chunked_roll[pitch, noteOff_idx] == 0:\n",
    "            end_time = onset_time[noteOff_idx]\n",
    "            break\n",
    "        elif chunked_roll[pitch, noteOff_idx] < chunked_roll[pitch, onset_idx]: \n",
    "            # it's a tied over note!\n",
    "            chunked_roll[pitch, noteOff_idx] = 0\n",
    "            noteOff_idx += 1\n",
    "        else: # it's a new onset of the same note\n",
    "            end_time = onset_time[noteOff_idx]\n",
    "            break\n",
    "    return end_time\n",
    "\n",
    "def get_midi_note_from_pitch(pitch):\n",
    "    # get pitch which is in piano roll format to be MIDI\n",
    "    return pitch + 21;"
   ]
  },
  {
   "cell_type": "code",
   "execution_count": 115,
   "metadata": {
    "collapsed": false
   },
   "outputs": [],
   "source": [
    "# Initialize\n",
    "midi_output = pretty_midi.PrettyMIDI()\n",
    "guitar = pretty_midi.Instrument(program=0) # using soundfonts that has 0:0 as the guitar sound\n",
    "\n",
    "#read chunked roll and synthesis!\n",
    "#first iterate through all onsets\n",
    "for idx in np.arange(0,onset_time.shape[0]):\n",
    "    # get the non-zero pitches and their salience from chunked_roll\n",
    "    current_pitch_dict = get_pitch_dict(idx, chunked_roll)\n",
    "    # then for each onset, iterate through each note\n",
    "    for pitch in current_pitch_dict:\n",
    "        salience = current_pitch_dict[pitch]\n",
    "        midi_number = get_midi_note_from_pitch(pitch)\n",
    "        velocity = get_pitch_velocity(salience)\n",
    "        start_time = onset_time[idx]\n",
    "        end_time = get_end_time(idx, pitch, chunked_roll, onset_time)\n",
    "        note = pretty_midi.Note(velocity=velocity, pitch=midi_number, start=start_time, end=end_time)\n",
    "        guitar.notes.append(note)\n",
    "        \n",
    "# Add the guitar instrument to the PrettyMIDI object\n",
    "midi_output.instruments.append(guitar)\n",
    "# Write out the MIDI data\n",
    "midi_output.write('./midi/midi_output.mid')"
   ]
  },
  {
   "cell_type": "code",
   "execution_count": null,
   "metadata": {
    "collapsed": true
   },
   "outputs": [],
   "source": []
  }
 ],
 "metadata": {
  "anaconda-cloud": {},
  "kernelspec": {
   "display_name": "Python [default]",
   "language": "python",
   "name": "python2"
  },
  "language_info": {
   "codemirror_mode": {
    "name": "ipython",
    "version": 2
   },
   "file_extension": ".py",
   "mimetype": "text/x-python",
   "name": "python",
   "nbconvert_exporter": "python",
   "pygments_lexer": "ipython2",
   "version": "2.7.12"
  }
 },
 "nbformat": 4,
 "nbformat_minor": 1
}
